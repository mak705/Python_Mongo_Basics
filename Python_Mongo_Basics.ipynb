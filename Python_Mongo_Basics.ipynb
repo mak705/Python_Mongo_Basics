{
 "cells": [
  {
   "cell_type": "code",
   "execution_count": 64,
   "metadata": {},
   "outputs": [],
   "source": [
    " import pymongo "
   ]
  },
  {
   "cell_type": "code",
   "execution_count": 65,
   "metadata": {},
   "outputs": [],
   "source": [
    "\n",
    "myclient = pymongo.MongoClient(\"mongodb://localhost:27017/\")\n",
    "\n",
    "mydb = myclient[\"mydatabase\"]"
   ]
  },
  {
   "cell_type": "code",
   "execution_count": 66,
   "metadata": {},
   "outputs": [
    {
     "name": "stdout",
     "output_type": "stream",
     "text": [
      "['admin', 'config', 'local', 'movielens']\n"
     ]
    }
   ],
   "source": [
    " print(myclient.list_database_names())"
   ]
  },
  {
   "cell_type": "code",
   "execution_count": 67,
   "metadata": {},
   "outputs": [],
   "source": [
    "dblist = myclient.list_database_names()\n",
    "if \"mydatabase\" in dblist:\n",
    "  print(\"The database exists.\")"
   ]
  },
  {
   "cell_type": "code",
   "execution_count": 69,
   "metadata": {},
   "outputs": [
    {
     "name": "stdout",
     "output_type": "stream",
     "text": [
      "[]\n"
     ]
    }
   ],
   "source": [
    " print(mydb.list_collection_names())"
   ]
  },
  {
   "cell_type": "code",
   "execution_count": 70,
   "metadata": {},
   "outputs": [
    {
     "name": "stdout",
     "output_type": "stream",
     "text": [
      "[]\n"
     ]
    }
   ],
   "source": [
    "#Create a collection called \"customers\":\n",
    "\n",
    "mycol = mydb[\"customers\"]\n",
    "print(mydb.list_collection_names())"
   ]
  },
  {
   "cell_type": "code",
   "execution_count": 71,
   "metadata": {},
   "outputs": [],
   "source": [
    "collist = mydb.list_collection_names()\n",
    "if \"customers\" in collist:\n",
    "  print(\"The collection exists.\")"
   ]
  },
  {
   "cell_type": "code",
   "execution_count": 72,
   "metadata": {},
   "outputs": [],
   "source": [
    "#Insert a record in the \"customers\" collection:\n",
    "mydict = { \"name\": \"John\", \"address\": \"Highway 37\" }\n",
    "\n",
    "x = mycol.insert_one(mydict)"
   ]
  },
  {
   "cell_type": "code",
   "execution_count": 73,
   "metadata": {},
   "outputs": [
    {
     "name": "stdout",
     "output_type": "stream",
     "text": [
      "{'_id': ObjectId('5bf0ec6415d8825ac3eb9c4a'), 'name': 'John', 'address': 'Highway 37'}\n"
     ]
    }
   ],
   "source": [
    "for x in mycol.find():\n",
    "  print(x) "
   ]
  },
  {
   "cell_type": "code",
   "execution_count": 74,
   "metadata": {},
   "outputs": [
    {
     "name": "stdout",
     "output_type": "stream",
     "text": [
      "['admin', 'config', 'local', 'movielens', 'mydatabase']\n"
     ]
    }
   ],
   "source": [
    " print(myclient.list_database_names())"
   ]
  },
  {
   "cell_type": "code",
   "execution_count": 75,
   "metadata": {},
   "outputs": [
    {
     "name": "stdout",
     "output_type": "stream",
     "text": [
      "['customers']\n"
     ]
    }
   ],
   "source": [
    "print(mydb.list_collection_names())"
   ]
  },
  {
   "cell_type": "code",
   "execution_count": 54,
   "metadata": {},
   "outputs": [
    {
     "name": "stdout",
     "output_type": "stream",
     "text": [
      "5bf0ebd615d8825ac3eb9c3a\n"
     ]
    }
   ],
   "source": [
    "#Insert another record in the \"customers\" collection, and return the value of the _id field:\n",
    "mydict = { \"name\": \"Peter\", \"address\": \"Lowstreet 27\" }\n",
    "\n",
    "x = mycol.insert_one(mydict)\n",
    "\n",
    "print(x.inserted_id) "
   ]
  },
  {
   "cell_type": "code",
   "execution_count": 55,
   "metadata": {},
   "outputs": [],
   "source": [
    "#Insert Multiple Documents\n",
    "mylist = [\n",
    "  { \"name\": \"Amy\", \"address\": \"Apple st 652\"},\n",
    "  { \"name\": \"Hannah\", \"address\": \"Mountain 21\"},\n",
    "  { \"name\": \"Michael\", \"address\": \"Valley 345\"},\n",
    "  { \"name\": \"Sandy\", \"address\": \"Ocean blvd 2\"},\n",
    "  { \"name\": \"Betty\", \"address\": \"Green Grass 1\"},\n",
    "  { \"name\": \"Richard\", \"address\": \"Sky st 331\"},\n",
    "  { \"name\": \"Susan\", \"address\": \"One way 98\"},\n",
    "  { \"name\": \"Vicky\", \"address\": \"Yellow Garden 2\"},\n",
    "  { \"name\": \"Ben\", \"address\": \"Park Lane 38\"},\n",
    "  { \"name\": \"William\", \"address\": \"Central st 954\"},\n",
    "  { \"name\": \"Chuck\", \"address\": \"Main Road 989\"},\n",
    "  { \"name\": \"Viola\", \"address\": \"Sideway 1633\"}\n",
    "]\n",
    "\n",
    "x = mycol.insert_many(mylist)"
   ]
  },
  {
   "cell_type": "code",
   "execution_count": 56,
   "metadata": {},
   "outputs": [
    {
     "name": "stdout",
     "output_type": "stream",
     "text": [
      "[ObjectId('5bf0ebd815d8825ac3eb9c3b'), ObjectId('5bf0ebd815d8825ac3eb9c3c'), ObjectId('5bf0ebd815d8825ac3eb9c3d'), ObjectId('5bf0ebd815d8825ac3eb9c3e'), ObjectId('5bf0ebd815d8825ac3eb9c3f'), ObjectId('5bf0ebd815d8825ac3eb9c40'), ObjectId('5bf0ebd815d8825ac3eb9c41'), ObjectId('5bf0ebd815d8825ac3eb9c42'), ObjectId('5bf0ebd815d8825ac3eb9c43'), ObjectId('5bf0ebd815d8825ac3eb9c44'), ObjectId('5bf0ebd815d8825ac3eb9c45'), ObjectId('5bf0ebd815d8825ac3eb9c46')]\n"
     ]
    }
   ],
   "source": [
    "#print list of the _id values of the inserted documents:\n",
    "print(x.inserted_ids) "
   ]
  },
  {
   "cell_type": "code",
   "execution_count": 57,
   "metadata": {},
   "outputs": [
    {
     "name": "stdout",
     "output_type": "stream",
     "text": [
      "{'_id': ObjectId('5bf0ebd515d8825ac3eb9c39'), 'name': 'John', 'address': 'Highway 37'}\n"
     ]
    }
   ],
   "source": [
    "#Find the first document in the customers collection:\n",
    "x = mycol.find_one()\n",
    "\n",
    "print(x) "
   ]
  },
  {
   "cell_type": "code",
   "execution_count": 58,
   "metadata": {},
   "outputs": [
    {
     "name": "stdout",
     "output_type": "stream",
     "text": [
      "{'_id': ObjectId('5bf0ebd515d8825ac3eb9c39'), 'name': 'John', 'address': 'Highway 37'}\n",
      "{'_id': ObjectId('5bf0ebd615d8825ac3eb9c3a'), 'name': 'Peter', 'address': 'Lowstreet 27'}\n",
      "{'_id': ObjectId('5bf0ebd815d8825ac3eb9c3b'), 'name': 'Amy', 'address': 'Apple st 652'}\n",
      "{'_id': ObjectId('5bf0ebd815d8825ac3eb9c3c'), 'name': 'Hannah', 'address': 'Mountain 21'}\n",
      "{'_id': ObjectId('5bf0ebd815d8825ac3eb9c3d'), 'name': 'Michael', 'address': 'Valley 345'}\n",
      "{'_id': ObjectId('5bf0ebd815d8825ac3eb9c3e'), 'name': 'Sandy', 'address': 'Ocean blvd 2'}\n",
      "{'_id': ObjectId('5bf0ebd815d8825ac3eb9c3f'), 'name': 'Betty', 'address': 'Green Grass 1'}\n",
      "{'_id': ObjectId('5bf0ebd815d8825ac3eb9c40'), 'name': 'Richard', 'address': 'Sky st 331'}\n",
      "{'_id': ObjectId('5bf0ebd815d8825ac3eb9c41'), 'name': 'Susan', 'address': 'One way 98'}\n",
      "{'_id': ObjectId('5bf0ebd815d8825ac3eb9c42'), 'name': 'Vicky', 'address': 'Yellow Garden 2'}\n",
      "{'_id': ObjectId('5bf0ebd815d8825ac3eb9c43'), 'name': 'Ben', 'address': 'Park Lane 38'}\n",
      "{'_id': ObjectId('5bf0ebd815d8825ac3eb9c44'), 'name': 'William', 'address': 'Central st 954'}\n",
      "{'_id': ObjectId('5bf0ebd815d8825ac3eb9c45'), 'name': 'Chuck', 'address': 'Main Road 989'}\n",
      "{'_id': ObjectId('5bf0ebd815d8825ac3eb9c46'), 'name': 'Viola', 'address': 'Sideway 1633'}\n"
     ]
    }
   ],
   "source": [
    "#Return all documents in the \"customers\" collection, and print each document:\n",
    "for x in mycol.find():\n",
    "  print(x) "
   ]
  },
  {
   "cell_type": "code",
   "execution_count": 31,
   "metadata": {},
   "outputs": [
    {
     "name": "stdout",
     "output_type": "stream",
     "text": [
      "{'name': 'Minnie', 'address': 'Highway 37'}\n",
      "{'name': 'John', 'address': 'Highway 37'}\n",
      "{'name': 'John', 'address': 'Highway 37'}\n",
      "{'name': 'Peter', 'address': 'Lowstreet 27'}\n",
      "{'name': 'Amy', 'address': 'Apple st 652'}\n",
      "{'name': 'Hannah', 'address': 'Mountain 21'}\n",
      "{'name': 'Michael', 'address': 'Valley 345'}\n",
      "{'name': 'Sandy', 'address': 'Ocean blvd 2'}\n",
      "{'name': 'Betty', 'address': 'Green Grass 1'}\n",
      "{'name': 'Richard', 'address': 'Sky st 331'}\n",
      "{'name': 'Susan', 'address': 'One way 98'}\n",
      "{'name': 'Vicky', 'address': 'Yellow Garden 2'}\n",
      "{'name': 'Ben', 'address': 'Park Lane 38'}\n",
      "{'name': 'William', 'address': 'Central st 954'}\n",
      "{'name': 'Chuck', 'address': 'Main Road 989'}\n",
      "{'name': 'Viola', 'address': 'Sideway 1633'}\n"
     ]
    }
   ],
   "source": [
    "#Return only the names and addresses, not the _ids:\n",
    "\n",
    "for x in mycol.find({},{ \"_id\": 0, \"name\": 1, \"address\": 1 }):\n",
    "  print(x) "
   ]
  },
  {
   "cell_type": "code",
   "execution_count": 32,
   "metadata": {},
   "outputs": [
    {
     "name": "stdout",
     "output_type": "stream",
     "text": [
      "{'_id': ObjectId('5befdfbe15d882727bcc31df'), 'name': 'Minnie'}\n",
      "{'_id': ObjectId('5bf0eaca15d8825ac3eb9c28'), 'name': 'John'}\n",
      "{'_id': ObjectId('5bf0eb5315d8825ac3eb9c2a'), 'name': 'John'}\n",
      "{'_id': ObjectId('5bf0eb5415d8825ac3eb9c2b'), 'name': 'Peter'}\n",
      "{'_id': ObjectId('5bf0eb5415d8825ac3eb9c2c'), 'name': 'Amy'}\n",
      "{'_id': ObjectId('5bf0eb5415d8825ac3eb9c2d'), 'name': 'Hannah'}\n",
      "{'_id': ObjectId('5bf0eb5415d8825ac3eb9c2e'), 'name': 'Michael'}\n",
      "{'_id': ObjectId('5bf0eb5415d8825ac3eb9c2f'), 'name': 'Sandy'}\n",
      "{'_id': ObjectId('5bf0eb5415d8825ac3eb9c30'), 'name': 'Betty'}\n",
      "{'_id': ObjectId('5bf0eb5415d8825ac3eb9c31'), 'name': 'Richard'}\n",
      "{'_id': ObjectId('5bf0eb5415d8825ac3eb9c32'), 'name': 'Susan'}\n",
      "{'_id': ObjectId('5bf0eb5415d8825ac3eb9c33'), 'name': 'Vicky'}\n",
      "{'_id': ObjectId('5bf0eb5415d8825ac3eb9c34'), 'name': 'Ben'}\n",
      "{'_id': ObjectId('5bf0eb5415d8825ac3eb9c35'), 'name': 'William'}\n",
      "{'_id': ObjectId('5bf0eb5415d8825ac3eb9c36'), 'name': 'Chuck'}\n",
      "{'_id': ObjectId('5bf0eb5415d8825ac3eb9c37'), 'name': 'Viola'}\n"
     ]
    }
   ],
   "source": [
    "#This example will exclude \"address\" from the result:\n",
    "for x in mycol.find({},{ \"address\": 0 }):\n",
    "  print(x) "
   ]
  },
  {
   "cell_type": "code",
   "execution_count": 33,
   "metadata": {},
   "outputs": [
    {
     "ename": "OperationFailure",
     "evalue": "Projection cannot have a mix of inclusion and exclusion.",
     "output_type": "error",
     "traceback": [
      "\u001b[0;31m---------------------------------------------------------------------------\u001b[0m",
      "\u001b[0;31mOperationFailure\u001b[0m                          Traceback (most recent call last)",
      "\u001b[0;32m<ipython-input-33-3ab5fcb26d3f>\u001b[0m in \u001b[0;36m<module>\u001b[0;34m()\u001b[0m\n\u001b[1;32m      1\u001b[0m \u001b[0;31m#You get an error if you specify both 0 and 1 values in\u001b[0m\u001b[0;34m\u001b[0m\u001b[0;34m\u001b[0m\u001b[0m\n\u001b[1;32m      2\u001b[0m \u001b[0;31m#the same object (except if one of the fields is the _id field):\u001b[0m\u001b[0;34m\u001b[0m\u001b[0;34m\u001b[0m\u001b[0m\n\u001b[0;32m----> 3\u001b[0;31m \u001b[0;32mfor\u001b[0m \u001b[0mx\u001b[0m \u001b[0;32min\u001b[0m \u001b[0mmycol\u001b[0m\u001b[0;34m.\u001b[0m\u001b[0mfind\u001b[0m\u001b[0;34m(\u001b[0m\u001b[0;34m{\u001b[0m\u001b[0;34m}\u001b[0m\u001b[0;34m,\u001b[0m\u001b[0;34m{\u001b[0m \u001b[0;34m\"name\"\u001b[0m\u001b[0;34m:\u001b[0m \u001b[0;36m1\u001b[0m\u001b[0;34m,\u001b[0m \u001b[0;34m\"address\"\u001b[0m\u001b[0;34m:\u001b[0m \u001b[0;36m0\u001b[0m \u001b[0;34m}\u001b[0m\u001b[0;34m)\u001b[0m\u001b[0;34m:\u001b[0m\u001b[0;34m\u001b[0m\u001b[0m\n\u001b[0m\u001b[1;32m      4\u001b[0m     \u001b[0mprint\u001b[0m\u001b[0;34m(\u001b[0m\u001b[0mx\u001b[0m\u001b[0;34m)\u001b[0m\u001b[0;34m\u001b[0m\u001b[0m\n",
      "\u001b[0;32m~/.local/lib/python3.6/site-packages/pymongo/cursor.py\u001b[0m in \u001b[0;36mnext\u001b[0;34m(self)\u001b[0m\n\u001b[1;32m   1187\u001b[0m         \u001b[0;32mif\u001b[0m \u001b[0mself\u001b[0m\u001b[0;34m.\u001b[0m\u001b[0m__empty\u001b[0m\u001b[0;34m:\u001b[0m\u001b[0;34m\u001b[0m\u001b[0m\n\u001b[1;32m   1188\u001b[0m             \u001b[0;32mraise\u001b[0m \u001b[0mStopIteration\u001b[0m\u001b[0;34m\u001b[0m\u001b[0m\n\u001b[0;32m-> 1189\u001b[0;31m         \u001b[0;32mif\u001b[0m \u001b[0mlen\u001b[0m\u001b[0;34m(\u001b[0m\u001b[0mself\u001b[0m\u001b[0;34m.\u001b[0m\u001b[0m__data\u001b[0m\u001b[0;34m)\u001b[0m \u001b[0;32mor\u001b[0m \u001b[0mself\u001b[0m\u001b[0;34m.\u001b[0m\u001b[0m_refresh\u001b[0m\u001b[0;34m(\u001b[0m\u001b[0;34m)\u001b[0m\u001b[0;34m:\u001b[0m\u001b[0;34m\u001b[0m\u001b[0m\n\u001b[0m\u001b[1;32m   1190\u001b[0m             \u001b[0;32mif\u001b[0m \u001b[0mself\u001b[0m\u001b[0;34m.\u001b[0m\u001b[0m__manipulate\u001b[0m\u001b[0;34m:\u001b[0m\u001b[0;34m\u001b[0m\u001b[0m\n\u001b[1;32m   1191\u001b[0m                 \u001b[0m_db\u001b[0m \u001b[0;34m=\u001b[0m \u001b[0mself\u001b[0m\u001b[0;34m.\u001b[0m\u001b[0m__collection\u001b[0m\u001b[0;34m.\u001b[0m\u001b[0mdatabase\u001b[0m\u001b[0;34m\u001b[0m\u001b[0m\n",
      "\u001b[0;32m~/.local/lib/python3.6/site-packages/pymongo/cursor.py\u001b[0m in \u001b[0;36m_refresh\u001b[0;34m(self)\u001b[0m\n\u001b[1;32m   1102\u001b[0m                                   \u001b[0mself\u001b[0m\u001b[0;34m.\u001b[0m\u001b[0m__session\u001b[0m\u001b[0;34m,\u001b[0m\u001b[0;34m\u001b[0m\u001b[0m\n\u001b[1;32m   1103\u001b[0m                                   self.__collection.database.client)\n\u001b[0;32m-> 1104\u001b[0;31m             \u001b[0mself\u001b[0m\u001b[0;34m.\u001b[0m\u001b[0m__send_message\u001b[0m\u001b[0;34m(\u001b[0m\u001b[0mq\u001b[0m\u001b[0;34m)\u001b[0m\u001b[0;34m\u001b[0m\u001b[0m\n\u001b[0m\u001b[1;32m   1105\u001b[0m         \u001b[0;32melif\u001b[0m \u001b[0mself\u001b[0m\u001b[0;34m.\u001b[0m\u001b[0m__id\u001b[0m\u001b[0;34m:\u001b[0m  \u001b[0;31m# Get More\u001b[0m\u001b[0;34m\u001b[0m\u001b[0m\n\u001b[1;32m   1106\u001b[0m             \u001b[0;32mif\u001b[0m \u001b[0mself\u001b[0m\u001b[0;34m.\u001b[0m\u001b[0m__limit\u001b[0m\u001b[0;34m:\u001b[0m\u001b[0;34m\u001b[0m\u001b[0m\n",
      "\u001b[0;32m~/.local/lib/python3.6/site-packages/pymongo/cursor.py\u001b[0m in \u001b[0;36m__send_message\u001b[0;34m(self, operation)\u001b[0m\n\u001b[1;32m    980\u001b[0m                 \u001b[0mfirst\u001b[0m \u001b[0;34m=\u001b[0m \u001b[0mdocs\u001b[0m\u001b[0;34m[\u001b[0m\u001b[0;36m0\u001b[0m\u001b[0;34m]\u001b[0m\u001b[0;34m\u001b[0m\u001b[0m\n\u001b[1;32m    981\u001b[0m                 \u001b[0mclient\u001b[0m\u001b[0;34m.\u001b[0m\u001b[0m_receive_cluster_time\u001b[0m\u001b[0;34m(\u001b[0m\u001b[0mfirst\u001b[0m\u001b[0;34m,\u001b[0m \u001b[0mself\u001b[0m\u001b[0;34m.\u001b[0m\u001b[0m__session\u001b[0m\u001b[0;34m)\u001b[0m\u001b[0;34m\u001b[0m\u001b[0m\n\u001b[0;32m--> 982\u001b[0;31m                 \u001b[0mhelpers\u001b[0m\u001b[0;34m.\u001b[0m\u001b[0m_check_command_response\u001b[0m\u001b[0;34m(\u001b[0m\u001b[0mfirst\u001b[0m\u001b[0;34m)\u001b[0m\u001b[0;34m\u001b[0m\u001b[0m\n\u001b[0m\u001b[1;32m    983\u001b[0m         \u001b[0;32mexcept\u001b[0m \u001b[0mOperationFailure\u001b[0m \u001b[0;32mas\u001b[0m \u001b[0mexc\u001b[0m\u001b[0;34m:\u001b[0m\u001b[0;34m\u001b[0m\u001b[0m\n\u001b[1;32m    984\u001b[0m             \u001b[0mself\u001b[0m\u001b[0;34m.\u001b[0m\u001b[0m__killed\u001b[0m \u001b[0;34m=\u001b[0m \u001b[0;32mTrue\u001b[0m\u001b[0;34m\u001b[0m\u001b[0m\n",
      "\u001b[0;32m~/.local/lib/python3.6/site-packages/pymongo/helpers.py\u001b[0m in \u001b[0;36m_check_command_response\u001b[0;34m(response, msg, allowable_errors, parse_write_concern_error)\u001b[0m\n\u001b[1;32m    153\u001b[0m \u001b[0;34m\u001b[0m\u001b[0m\n\u001b[1;32m    154\u001b[0m             \u001b[0mmsg\u001b[0m \u001b[0;34m=\u001b[0m \u001b[0mmsg\u001b[0m \u001b[0;32mor\u001b[0m \u001b[0;34m\"%s\"\u001b[0m\u001b[0;34m\u001b[0m\u001b[0m\n\u001b[0;32m--> 155\u001b[0;31m             \u001b[0;32mraise\u001b[0m \u001b[0mOperationFailure\u001b[0m\u001b[0;34m(\u001b[0m\u001b[0mmsg\u001b[0m \u001b[0;34m%\u001b[0m \u001b[0merrmsg\u001b[0m\u001b[0;34m,\u001b[0m \u001b[0mcode\u001b[0m\u001b[0;34m,\u001b[0m \u001b[0mresponse\u001b[0m\u001b[0;34m)\u001b[0m\u001b[0;34m\u001b[0m\u001b[0m\n\u001b[0m\u001b[1;32m    156\u001b[0m \u001b[0;34m\u001b[0m\u001b[0m\n\u001b[1;32m    157\u001b[0m \u001b[0;34m\u001b[0m\u001b[0m\n",
      "\u001b[0;31mOperationFailure\u001b[0m: Projection cannot have a mix of inclusion and exclusion."
     ]
    }
   ],
   "source": [
    "#You get an error if you specify both 0 and 1 values in \n",
    "#the same object (except if one of the fields is the _id field):\n",
    "for x in mycol.find({},{ \"name\": 1, \"address\": 0 }):\n",
    "    print(x) "
   ]
  },
  {
   "cell_type": "code",
   "execution_count": 34,
   "metadata": {},
   "outputs": [
    {
     "name": "stdout",
     "output_type": "stream",
     "text": [
      "{'_id': ObjectId('5bf0eb5415d8825ac3eb9c34'), 'name': 'Ben', 'address': 'Park Lane 38'}\n"
     ]
    }
   ],
   "source": [
    "#Find document(s) with the address \"Park Lane 38\":\n",
    "myquery = { \"address\": \"Park Lane 38\" }\n",
    "\n",
    "mydoc = mycol.find(myquery)\n",
    "\n",
    "for x in mydoc:\n",
    "  print(x) "
   ]
  },
  {
   "cell_type": "code",
   "execution_count": 35,
   "metadata": {},
   "outputs": [
    {
     "name": "stdout",
     "output_type": "stream",
     "text": [
      "{'_id': ObjectId('5bf0eb5415d8825ac3eb9c2e'), 'name': 'Michael', 'address': 'Valley 345'}\n",
      "{'_id': ObjectId('5bf0eb5415d8825ac3eb9c31'), 'name': 'Richard', 'address': 'Sky st 331'}\n",
      "{'_id': ObjectId('5bf0eb5415d8825ac3eb9c33'), 'name': 'Vicky', 'address': 'Yellow Garden 2'}\n",
      "{'_id': ObjectId('5bf0eb5415d8825ac3eb9c37'), 'name': 'Viola', 'address': 'Sideway 1633'}\n"
     ]
    }
   ],
   "source": [
    "#Find documents where the address starts with the letter \"S\" or higher:\n",
    "myquery = { \"address\": { \"$gt\": \"S\" } }\n",
    "\n",
    "mydoc = mycol.find(myquery)\n",
    "\n",
    "for x in mydoc:\n",
    "  print(x) "
   ]
  },
  {
   "cell_type": "code",
   "execution_count": 36,
   "metadata": {},
   "outputs": [
    {
     "name": "stdout",
     "output_type": "stream",
     "text": [
      "{'_id': ObjectId('5bf0eb5415d8825ac3eb9c31'), 'name': 'Richard', 'address': 'Sky st 331'}\n",
      "{'_id': ObjectId('5bf0eb5415d8825ac3eb9c37'), 'name': 'Viola', 'address': 'Sideway 1633'}\n"
     ]
    }
   ],
   "source": [
    "#Find documents where the address starts with the letter \"S\":\n",
    "myquery = { \"address\": { \"$regex\": \"^S\" } }\n",
    "\n",
    "mydoc = mycol.find(myquery)\n",
    "\n",
    "for x in mydoc:\n",
    "  print(x) "
   ]
  },
  {
   "cell_type": "code",
   "execution_count": 37,
   "metadata": {},
   "outputs": [
    {
     "name": "stdout",
     "output_type": "stream",
     "text": [
      "{'_id': ObjectId('5bf0eb5415d8825ac3eb9c2c'), 'name': 'Amy', 'address': 'Apple st 652'}\n",
      "{'_id': ObjectId('5bf0eb5415d8825ac3eb9c34'), 'name': 'Ben', 'address': 'Park Lane 38'}\n",
      "{'_id': ObjectId('5bf0eb5415d8825ac3eb9c30'), 'name': 'Betty', 'address': 'Green Grass 1'}\n",
      "{'_id': ObjectId('5bf0eb5415d8825ac3eb9c36'), 'name': 'Chuck', 'address': 'Main Road 989'}\n",
      "{'_id': ObjectId('5bf0eb5415d8825ac3eb9c2d'), 'name': 'Hannah', 'address': 'Mountain 21'}\n",
      "{'_id': ObjectId('5bf0eaca15d8825ac3eb9c28'), 'name': 'John', 'address': 'Highway 37'}\n",
      "{'_id': ObjectId('5bf0eb5315d8825ac3eb9c2a'), 'name': 'John', 'address': 'Highway 37'}\n",
      "{'_id': ObjectId('5bf0eb5415d8825ac3eb9c2e'), 'name': 'Michael', 'address': 'Valley 345'}\n",
      "{'_id': ObjectId('5befdfbe15d882727bcc31df'), 'name': 'Minnie', 'address': 'Highway 37'}\n",
      "{'_id': ObjectId('5bf0eb5415d8825ac3eb9c2b'), 'name': 'Peter', 'address': 'Lowstreet 27'}\n",
      "{'_id': ObjectId('5bf0eb5415d8825ac3eb9c31'), 'name': 'Richard', 'address': 'Sky st 331'}\n",
      "{'_id': ObjectId('5bf0eb5415d8825ac3eb9c2f'), 'name': 'Sandy', 'address': 'Ocean blvd 2'}\n",
      "{'_id': ObjectId('5bf0eb5415d8825ac3eb9c32'), 'name': 'Susan', 'address': 'One way 98'}\n",
      "{'_id': ObjectId('5bf0eb5415d8825ac3eb9c33'), 'name': 'Vicky', 'address': 'Yellow Garden 2'}\n",
      "{'_id': ObjectId('5bf0eb5415d8825ac3eb9c37'), 'name': 'Viola', 'address': 'Sideway 1633'}\n",
      "{'_id': ObjectId('5bf0eb5415d8825ac3eb9c35'), 'name': 'William', 'address': 'Central st 954'}\n"
     ]
    }
   ],
   "source": [
    "#Sort the result alphabetically by name:\n",
    "mydoc = mycol.find().sort(\"name\")\n",
    "\n",
    "for x in mydoc:\n",
    "  print(x) "
   ]
  },
  {
   "cell_type": "code",
   "execution_count": 38,
   "metadata": {},
   "outputs": [
    {
     "name": "stdout",
     "output_type": "stream",
     "text": [
      "{'_id': ObjectId('5bf0eb5415d8825ac3eb9c35'), 'name': 'William', 'address': 'Central st 954'}\n",
      "{'_id': ObjectId('5bf0eb5415d8825ac3eb9c37'), 'name': 'Viola', 'address': 'Sideway 1633'}\n",
      "{'_id': ObjectId('5bf0eb5415d8825ac3eb9c33'), 'name': 'Vicky', 'address': 'Yellow Garden 2'}\n",
      "{'_id': ObjectId('5bf0eb5415d8825ac3eb9c32'), 'name': 'Susan', 'address': 'One way 98'}\n",
      "{'_id': ObjectId('5bf0eb5415d8825ac3eb9c2f'), 'name': 'Sandy', 'address': 'Ocean blvd 2'}\n",
      "{'_id': ObjectId('5bf0eb5415d8825ac3eb9c31'), 'name': 'Richard', 'address': 'Sky st 331'}\n",
      "{'_id': ObjectId('5bf0eb5415d8825ac3eb9c2b'), 'name': 'Peter', 'address': 'Lowstreet 27'}\n",
      "{'_id': ObjectId('5befdfbe15d882727bcc31df'), 'name': 'Minnie', 'address': 'Highway 37'}\n",
      "{'_id': ObjectId('5bf0eb5415d8825ac3eb9c2e'), 'name': 'Michael', 'address': 'Valley 345'}\n",
      "{'_id': ObjectId('5bf0eaca15d8825ac3eb9c28'), 'name': 'John', 'address': 'Highway 37'}\n",
      "{'_id': ObjectId('5bf0eb5315d8825ac3eb9c2a'), 'name': 'John', 'address': 'Highway 37'}\n",
      "{'_id': ObjectId('5bf0eb5415d8825ac3eb9c2d'), 'name': 'Hannah', 'address': 'Mountain 21'}\n",
      "{'_id': ObjectId('5bf0eb5415d8825ac3eb9c36'), 'name': 'Chuck', 'address': 'Main Road 989'}\n",
      "{'_id': ObjectId('5bf0eb5415d8825ac3eb9c30'), 'name': 'Betty', 'address': 'Green Grass 1'}\n",
      "{'_id': ObjectId('5bf0eb5415d8825ac3eb9c34'), 'name': 'Ben', 'address': 'Park Lane 38'}\n",
      "{'_id': ObjectId('5bf0eb5415d8825ac3eb9c2c'), 'name': 'Amy', 'address': 'Apple st 652'}\n"
     ]
    }
   ],
   "source": [
    "#Sort the result reverse alphabetically by name:\n",
    "mydoc = mycol.find().sort(\"name\", -1)\n",
    "\n",
    "for x in mydoc:\n",
    "  print(x) "
   ]
  },
  {
   "cell_type": "code",
   "execution_count": 40,
   "metadata": {},
   "outputs": [
    {
     "data": {
      "text/plain": [
       "<pymongo.results.DeleteResult at 0x7fddc4025288>"
      ]
     },
     "execution_count": 40,
     "metadata": {},
     "output_type": "execute_result"
    }
   ],
   "source": [
    "#Delete the document with the address \"Mountain 21\":\n",
    "myquery = { \"address\": \"Mountain 21\" }\n",
    "\n",
    "mycol.delete_one(myquery) "
   ]
  },
  {
   "cell_type": "code",
   "execution_count": 41,
   "metadata": {},
   "outputs": [
    {
     "name": "stdout",
     "output_type": "stream",
     "text": [
      "2  documents deleted.\n"
     ]
    }
   ],
   "source": [
    "#To delete more than one document, use the delete_many() method.\n",
    "#Delete all documents were the address starts with the letter S:\n",
    "myquery = { \"address\": {\"$regex\": \"^S\"} }\n",
    "\n",
    "x = mycol.delete_many(myquery)\n",
    "\n",
    "print(x.deleted_count, \" documents deleted.\") "
   ]
  },
  {
   "cell_type": "code",
   "execution_count": 42,
   "metadata": {},
   "outputs": [
    {
     "name": "stdout",
     "output_type": "stream",
     "text": [
      "13  documents deleted.\n"
     ]
    }
   ],
   "source": [
    "#Delete all documents in the \"customers\" collection:\n",
    "x = mycol.delete_many({})\n",
    "\n",
    "print(x.deleted_count, \" documents deleted.\") "
   ]
  },
  {
   "cell_type": "code",
   "execution_count": 61,
   "metadata": {},
   "outputs": [],
   "source": [
    "#Delete the \"customers\" collection:\n",
    "mycol = mydb[\"customers\"]\n",
    "\n",
    "mycol.drop() "
   ]
  },
  {
   "cell_type": "code",
   "execution_count": 44,
   "metadata": {},
   "outputs": [],
   "source": [
    "#Change the address from \"Valley 37\" to \"Highway 37\":\n",
    "#You can update a record, or document as it is called in MongoDB, by using the update_one() method.\n",
    "\n",
    "mycol = mydb[\"customers\"]\n",
    "\n",
    "\n",
    "myquery = { \"address\": \"Valley 37\" }\n",
    "newvalues = { \"$set\": { \"address\": \"Highway 123\" } }\n",
    "\n",
    "mycol.update_one(myquery, newvalues)\n",
    "\n",
    "#print \"customers\" after the update:\n",
    "for x in mycol.find():\n",
    "    print(x) "
   ]
  },
  {
   "cell_type": "code",
   "execution_count": 10,
   "metadata": {},
   "outputs": [
    {
     "name": "stdout",
     "output_type": "stream",
     "text": [
      "2 documents updated.\n"
     ]
    }
   ],
   "source": [
    "myquery = { \"address\": { \"$regex\": \"^H\" } }\n",
    "newvalues = { \"$set\": { \"name\": \"Minnie\" } }\n",
    "\n",
    "x = mycol.update_many(myquery, newvalues)\n",
    "\n",
    "print(x.modified_count, \"documents updated.\") "
   ]
  },
  {
   "cell_type": "code",
   "execution_count": 12,
   "metadata": {},
   "outputs": [
    {
     "name": "stdout",
     "output_type": "stream",
     "text": [
      "{'_id': ObjectId('5befdf9f15d882727bcc31de'), 'name': 'Minnie', 'address': 'Highway 37'}\n"
     ]
    }
   ],
   "source": [
    "#Insert a record in the \"customers\" collection:\n",
    "mydict = { \"name\": \"John\", \"address\": \"Highway 37\" }\n",
    "\n",
    "x = mycol.insert_one(mydict)\n",
    "x = mycol.find_one()\n",
    "\n",
    "print(x) "
   ]
  },
  {
   "cell_type": "code",
   "execution_count": 17,
   "metadata": {},
   "outputs": [
    {
     "name": "stdout",
     "output_type": "stream",
     "text": [
      "{'_id': ObjectId('5befdfbe15d882727bcc31df'), 'name': 'Minnie', 'address': 'Highway 37'}\n",
      "{'_id': ObjectId('5bf0eaca15d8825ac3eb9c28'), 'name': 'John', 'address': 'Highway 37'}\n"
     ]
    }
   ],
   "source": [
    "myresult = mycol.find().limit(5)\n",
    "\n",
    "#print the result:\n",
    "for x in myresult:\n",
    "  print(x) "
   ]
  }
 ],
 "metadata": {
  "kernelspec": {
   "display_name": "Python 3",
   "language": "python",
   "name": "python3"
  },
  "language_info": {
   "codemirror_mode": {
    "name": "ipython",
    "version": 3
   },
   "file_extension": ".py",
   "mimetype": "text/x-python",
   "name": "python",
   "nbconvert_exporter": "python",
   "pygments_lexer": "ipython3",
   "version": "3.6.4"
  }
 },
 "nbformat": 4,
 "nbformat_minor": 2
}
